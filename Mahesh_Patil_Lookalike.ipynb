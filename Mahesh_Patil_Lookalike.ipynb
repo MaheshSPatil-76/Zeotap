{
 "cells": [
  {
   "cell_type": "code",
   "execution_count": 2,
   "id": "dca7be3d-0b06-4a75-9585-c625b96c804d",
   "metadata": {},
   "outputs": [
    {
     "name": "stdout",
     "output_type": "stream",
     "text": [
      "Defaulting to user installation because normal site-packages is not writeable\n",
      "Collecting scikit-learn\n",
      "  Downloading scikit_learn-1.6.1-cp313-cp313-win_amd64.whl.metadata (15 kB)\n",
      "Requirement already satisfied: numpy>=1.19.5 in c:\\users\\mahesh\\appdata\\roaming\\python\\python313\\site-packages (from scikit-learn) (2.2.1)\n",
      "Requirement already satisfied: scipy>=1.6.0 in c:\\users\\mahesh\\appdata\\roaming\\python\\python313\\site-packages (from scikit-learn) (1.15.1)\n",
      "Collecting joblib>=1.2.0 (from scikit-learn)\n",
      "  Downloading joblib-1.4.2-py3-none-any.whl.metadata (5.4 kB)\n",
      "Collecting threadpoolctl>=3.1.0 (from scikit-learn)\n",
      "  Downloading threadpoolctl-3.5.0-py3-none-any.whl.metadata (13 kB)\n",
      "Downloading scikit_learn-1.6.1-cp313-cp313-win_amd64.whl (11.1 MB)\n",
      "   ---------------------------------------- 0.0/11.1 MB ? eta -:--:--\n",
      "    --------------------------------------- 0.3/11.1 MB ? eta -:--:--\n",
      "   --- ------------------------------------ 1.0/11.1 MB 3.3 MB/s eta 0:00:04\n",
      "   ----- ---------------------------------- 1.6/11.1 MB 2.9 MB/s eta 0:00:04\n",
      "   ------ --------------------------------- 1.8/11.1 MB 2.8 MB/s eta 0:00:04\n",
      "   --------- ------------------------------ 2.6/11.1 MB 2.7 MB/s eta 0:00:04\n",
      "   -------------- ------------------------- 3.9/11.1 MB 3.4 MB/s eta 0:00:03\n",
      "   ------------------- -------------------- 5.5/11.1 MB 4.0 MB/s eta 0:00:02\n",
      "   ------------------------ --------------- 6.8/11.1 MB 4.3 MB/s eta 0:00:01\n",
      "   ------------------------------- -------- 8.7/11.1 MB 4.7 MB/s eta 0:00:01\n",
      "   ----------------------------------- ---- 10.0/11.1 MB 5.0 MB/s eta 0:00:01\n",
      "   ---------------------------------------- 11.1/11.1 MB 4.9 MB/s eta 0:00:00\n",
      "Downloading joblib-1.4.2-py3-none-any.whl (301 kB)\n",
      "Downloading threadpoolctl-3.5.0-py3-none-any.whl (18 kB)\n",
      "Installing collected packages: threadpoolctl, joblib, scikit-learn\n",
      "Successfully installed joblib-1.4.2 scikit-learn-1.6.1 threadpoolctl-3.5.0\n"
     ]
    }
   ],
   "source": [
    "!pip install scikit-learn\n"
   ]
  },
  {
   "cell_type": "code",
   "execution_count": 3,
   "id": "ef308a74-bc9a-41a9-b732-27e180ad2bd3",
   "metadata": {},
   "outputs": [],
   "source": [
    "# Importing libraries for data analysis and model development.\n",
    "import pandas as pd\n",
    "import numpy as np\n",
    "from sklearn.metrics.pairwise import cosine_similarity\n",
    "from sklearn.preprocessing import StandardScaler"
   ]
  },
  {
   "cell_type": "code",
   "execution_count": 4,
   "id": "53d360bf-849e-4c45-a470-2602c3dd3641",
   "metadata": {},
   "outputs": [],
   "source": [
    "# Load the datasets into Pandas DataFrames.\n",
    "customers = pd.read_csv(\"Customers.csv\")\n",
    "products = pd.read_csv(\"Products.csv\")\n",
    "transactions = pd.read_csv(\"Transactions.csv\")\n"
   ]
  },
  {
   "cell_type": "code",
   "execution_count": 5,
   "id": "e1d46ffb-a5c2-4f19-90b2-1559b2062b55",
   "metadata": {},
   "outputs": [],
   "source": [
    "# Merge transactions with customers and products.\n",
    "data = pd.merge(transactions, customers, on=\"CustomerID\", how=\"left\")\n",
    "data = pd.merge(data, products, on=\"ProductID\", how=\"left\")\n"
   ]
  },
  {
   "cell_type": "code",
   "execution_count": 6,
   "id": "48fff3b5-0763-4ee0-b291-ca5d4cb97813",
   "metadata": {},
   "outputs": [],
   "source": [
    "# Aggregate transaction history to create customer-level features.\n",
    "customer_features = data.groupby(\"CustomerID\").agg({\n",
    "    \"TotalValue\": [\"sum\", \"mean\"],\n",
    "    \"Quantity\": \"sum\",\n",
    "    \"ProductID\": lambda x: x.nunique(),  # Number of unique products purchased.\n",
    "}).reset_index()\n",
    "customer_features.columns = [\"CustomerID\", \"TotalSpend\", \"AvgSpend\", \"TotalQuantity\", \"UniqueProducts\"]\n"
   ]
  },
  {
   "cell_type": "code",
   "execution_count": 7,
   "id": "35b08f00-bdf0-4794-85fe-35d7e5d1152a",
   "metadata": {},
   "outputs": [],
   "source": [
    "# Merge with customer demographic information.\n",
    "customer_data = pd.merge(customers, customer_features, on=\"CustomerID\", how=\"left\")\n"
   ]
  },
  {
   "cell_type": "code",
   "execution_count": 8,
   "id": "4b56f931-a25d-4c4d-8e52-08343998f6e7",
   "metadata": {},
   "outputs": [],
   "source": [
    "# Fill missing values with 0 (if any).\n",
    "customer_data.fillna(0, inplace=True)\n"
   ]
  },
  {
   "cell_type": "code",
   "execution_count": 9,
   "id": "fec65e78-1bb1-4925-a2cd-979264d85aad",
   "metadata": {},
   "outputs": [],
   "source": [
    "# Select relevant features for similarity calculation.\n",
    "features = [\"TotalSpend\", \"AvgSpend\", \"TotalQuantity\", \"UniqueProducts\"]\n"
   ]
  },
  {
   "cell_type": "code",
   "execution_count": 10,
   "id": "20cc81c8-8bb4-4622-84c7-3cda5bda241c",
   "metadata": {},
   "outputs": [],
   "source": [
    "# Standardize numerical features.\n",
    "scaler = StandardScaler()\n",
    "customer_data[features] = scaler.fit_transform(customer_data[features])\n"
   ]
  },
  {
   "cell_type": "code",
   "execution_count": 11,
   "id": "80676108-da2a-4f31-b965-160ca9462320",
   "metadata": {},
   "outputs": [],
   "source": [
    "# Compute cosine similarity between customers.\n",
    "similarity_matrix = cosine_similarity(customer_data[features])\n",
    "similarity_df = pd.DataFrame(similarity_matrix, index=customer_data[\"CustomerID\"], columns=customer_data[\"CustomerID\"])\n"
   ]
  },
  {
   "cell_type": "code",
   "execution_count": 12,
   "id": "adad0267-e8fa-4493-a6b8-6c3d1986b64b",
   "metadata": {},
   "outputs": [],
   "source": [
    "# Function to get top 3 similar customers for each customer.\n",
    "def get_top_n_similar(customers_df, n=3):\n",
    "    lookalikes = {}\n",
    "    for customer_id in customers_df.index:\n",
    "        # Sort similarity scores in descending order, exclude the customer itself.\n",
    "        similar_customers = customers_df.loc[customer_id].sort_values(ascending=False).iloc[1:n+1]\n",
    "        lookalikes[customer_id] = list(zip(similar_customers.index, similar_customers.values))\n",
    "    return lookalikes"
   ]
  },
  {
   "cell_type": "code",
   "execution_count": 13,
   "id": "95eecff8-4444-41b2-993e-a15cc0f8955d",
   "metadata": {},
   "outputs": [],
   "source": [
    "# Get top 3 lookalikes for the first 20 customers.\n",
    "lookalikes = get_top_n_similar(similarity_df.loc[\"C0001\":\"C0020\"], n=3)\n"
   ]
  },
  {
   "cell_type": "code",
   "execution_count": 14,
   "id": "fa45ac92-2c6c-48e9-8dab-4093a8b3a838",
   "metadata": {},
   "outputs": [],
   "source": [
    "# Create Lookalike.csv file.\n",
    "lookalike_records = []\n",
    "for cust_id, similar_list in lookalikes.items():\n",
    "    lookalike_records.append({\n",
    "        \"CustomerID\": cust_id,\n",
    "        \"Lookalikes\": similar_list\n",
    "    })\n",
    "lookalike_df = pd.DataFrame(lookalike_records)\n",
    "lookalike_df.to_csv(\"Lookalike.csv\", index=False)\n"
   ]
  },
  {
   "cell_type": "code",
   "execution_count": 15,
   "id": "0e1123a1-f87b-42c6-b8e8-1e2684732003",
   "metadata": {},
   "outputs": [
    {
     "name": "stdout",
     "output_type": "stream",
     "text": [
      "Sample Lookalike Recommendations:\n",
      "  CustomerID                                         Lookalikes\n",
      "0      C0001  [(C0137, 0.9468620790818009), (C0164, 0.945373...\n",
      "1      C0002  [(C0029, 0.9995348079416365), (C0031, 0.997777...\n",
      "2      C0003  [(C0027, 0.8303038396808775), (C0176, 0.824671...\n",
      "3      C0004  [(C0075, 0.9975376587528684), (C0195, 0.993661...\n",
      "4      C0005  [(C0123, 0.9986331212213941), (C0063, 0.998165...\n"
     ]
    }
   ],
   "source": [
    "# Display a sample of the lookalike recommendations.\n",
    "print(\"Sample Lookalike Recommendations:\")\n",
    "print(lookalike_df.head())"
   ]
  }
 ],
 "metadata": {
  "kernelspec": {
   "display_name": "Python 3 (ipykernel)",
   "language": "python",
   "name": "python3"
  },
  "language_info": {
   "codemirror_mode": {
    "name": "ipython",
    "version": 3
   },
   "file_extension": ".py",
   "mimetype": "text/x-python",
   "name": "python",
   "nbconvert_exporter": "python",
   "pygments_lexer": "ipython3",
   "version": "3.13.1"
  }
 },
 "nbformat": 4,
 "nbformat_minor": 5
}
